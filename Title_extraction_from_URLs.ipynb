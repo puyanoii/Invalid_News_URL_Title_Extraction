{
 "cells": [
  {
   "cell_type": "markdown",
   "metadata": {},
   "source": [
    "Importing the libraries"
   ]
  },
  {
   "cell_type": "code",
   "execution_count": 26,
   "metadata": {},
   "outputs": [],
   "source": [
    "# For string handling\n",
    "import re \n",
    "import pandas as pd\n",
    "# For URL parsing\n",
    "from urllib.parse import urlparse  "
   ]
  },
  {
   "cell_type": "markdown",
   "metadata": {},
   "source": [
    "Creating an example dataframe that contains invalid URLs"
   ]
  },
  {
   "cell_type": "code",
   "execution_count": 22,
   "metadata": {},
   "outputs": [
    {
     "name": "stdout",
     "output_type": "stream",
     "text": [
      "\n",
      "Total number of 5 urls in the dataset\n",
      "\n"
     ]
    },
    {
     "data": {
      "text/html": [
       "<div>\n",
       "<style scoped>\n",
       "    .dataframe tbody tr th:only-of-type {\n",
       "        vertical-align: middle;\n",
       "    }\n",
       "\n",
       "    .dataframe tbody tr th {\n",
       "        vertical-align: top;\n",
       "    }\n",
       "\n",
       "    .dataframe thead th {\n",
       "        text-align: right;\n",
       "    }\n",
       "</style>\n",
       "<table border=\"1\" class=\"dataframe\">\n",
       "  <thead>\n",
       "    <tr style=\"text-align: right;\">\n",
       "      <th></th>\n",
       "      <th>url</th>\n",
       "    </tr>\n",
       "  </thead>\n",
       "  <tbody>\n",
       "    <tr>\n",
       "      <th>0</th>\n",
       "      <td>https://conservativeinstitute.org/conservative...</td>\n",
       "    </tr>\n",
       "    <tr>\n",
       "      <th>1</th>\n",
       "      <td>https://conservativeinstitute.org/conservative...</td>\n",
       "    </tr>\n",
       "    <tr>\n",
       "      <th>2</th>\n",
       "      <td>https://www.fdesouche.com/618749-suisse-un-tun...</td>\n",
       "    </tr>\n",
       "    <tr>\n",
       "      <th>3</th>\n",
       "      <td>https://www.dailyconservative.com/poll-do-you-...</td>\n",
       "    </tr>\n",
       "    <tr>\n",
       "      <th>4</th>\n",
       "      <td>www.bbc.co.uk</td>\n",
       "    </tr>\n",
       "  </tbody>\n",
       "</table>\n",
       "</div>"
      ],
      "text/plain": [
       "                                                 url\n",
       "0  https://conservativeinstitute.org/conservative...\n",
       "1  https://conservativeinstitute.org/conservative...\n",
       "2  https://www.fdesouche.com/618749-suisse-un-tun...\n",
       "3  https://www.dailyconservative.com/poll-do-you-...\n",
       "4                                      www.bbc.co.uk"
      ]
     },
     "execution_count": 22,
     "metadata": {},
     "output_type": "execute_result"
    }
   ],
   "source": [
    "urls = [# article pages\n",
    "        'https://conservativeinstitute.org/conservative-news/harris-accused-ignoring-obstructing.htm',\n",
    "       'https://conservativeinstitute.org/conservative-news/nancy-pelosis-lack-control.htm',\n",
    "       'https://www.fdesouche.com/618749-suisse-un-tunisien-deboute-donne-ses-solutions-avec-les-femmes-suisses-pour-survivre',\n",
    "       'https://www.dailyconservative.com/poll-do-you-stand-with-sarah-sanders?fbclid=IwAR3Wdwducv0S4TAaDHL7ROG7ZemVsdcMLxCJGNb63OElIBUQ9e7kTQdCthI',\n",
    "       # normal pages\n",
    "       'www.bbc.co.uk']\n",
    "d = {'url':urls}\n",
    "df = pd.DataFrame(d) \n",
    "print('\\nTotal number of {} urls in the dataset\\n'.format(len(df)))\n",
    "df"
   ]
  },
  {
   "cell_type": "markdown",
   "metadata": {},
   "source": [
    "Filtering rows that have urls containing \"-\" "
   ]
  },
  {
   "cell_type": "code",
   "execution_count": 23,
   "metadata": {},
   "outputs": [
    {
     "name": "stdout",
     "output_type": "stream",
     "text": [
      "\n",
      "Total number of 4 urls need to be extracted\n",
      "\n"
     ]
    },
    {
     "data": {
      "text/html": [
       "<div>\n",
       "<style scoped>\n",
       "    .dataframe tbody tr th:only-of-type {\n",
       "        vertical-align: middle;\n",
       "    }\n",
       "\n",
       "    .dataframe tbody tr th {\n",
       "        vertical-align: top;\n",
       "    }\n",
       "\n",
       "    .dataframe thead th {\n",
       "        text-align: right;\n",
       "    }\n",
       "</style>\n",
       "<table border=\"1\" class=\"dataframe\">\n",
       "  <thead>\n",
       "    <tr style=\"text-align: right;\">\n",
       "      <th></th>\n",
       "      <th>url</th>\n",
       "    </tr>\n",
       "  </thead>\n",
       "  <tbody>\n",
       "    <tr>\n",
       "      <th>0</th>\n",
       "      <td>https://conservativeinstitute.org/conservative...</td>\n",
       "    </tr>\n",
       "    <tr>\n",
       "      <th>1</th>\n",
       "      <td>https://conservativeinstitute.org/conservative...</td>\n",
       "    </tr>\n",
       "    <tr>\n",
       "      <th>2</th>\n",
       "      <td>https://www.fdesouche.com/618749-suisse-un-tun...</td>\n",
       "    </tr>\n",
       "    <tr>\n",
       "      <th>3</th>\n",
       "      <td>https://www.dailyconservative.com/poll-do-you-...</td>\n",
       "    </tr>\n",
       "  </tbody>\n",
       "</table>\n",
       "</div>"
      ],
      "text/plain": [
       "                                                 url\n",
       "0  https://conservativeinstitute.org/conservative...\n",
       "1  https://conservativeinstitute.org/conservative...\n",
       "2  https://www.fdesouche.com/618749-suisse-un-tun...\n",
       "3  https://www.dailyconservative.com/poll-do-you-..."
      ]
     },
     "execution_count": 23,
     "metadata": {},
     "output_type": "execute_result"
    }
   ],
   "source": [
    "df_extract = df[df.url.str.contains('-')]\n",
    "print('\\nTotal number of {} urls need to be extracted\\n'.format(len(df_extract)))\n",
    "df_extract"
   ]
  },
  {
   "cell_type": "code",
   "execution_count": 36,
   "metadata": {},
   "outputs": [
    {
     "name": "stdout",
     "output_type": "stream",
     "text": [
      "No. 1 extraacted\n",
      "No. 2 extraacted\n",
      "No. 3 extraacted\n",
      "No. 4 extraacted\n",
      "\n",
      "Extraction finished!\n"
     ]
    }
   ],
   "source": [
    "# Creating a new column called title_extracted\n",
    "df_extract.loc[:,('title_extracted')] = \"\"\n",
    "\n",
    "for i in range(len(df_extract)):\n",
    "    link = df_extract.iloc[i]['url']\n",
    "    parse = urlparse(link)\n",
    "    # Extract path from the url\n",
    "    path = parse.path \n",
    "    # Select the string after the last \"/\" of the path\n",
    "    string = path.rsplit('/', 1)[-1]\n",
    "    # Find all characters that are connected by \"-\"\n",
    "    matches = re.findall(r\"\\w+(?=-)|(?<=-)\\w+\", string) \n",
    "    # Join all identified characters\n",
    "    title_extracted = ' '.join(matches) \n",
    "    df_extract.at[i,'title_extracted'] = title_extracted\n",
    "    print(\"No. {} extraacted\".format(i + 1))   \n",
    "\n",
    "print(\"\\nExtraction finished!\")"
   ]
  },
  {
   "cell_type": "code",
   "execution_count": 37,
   "metadata": {},
   "outputs": [
    {
     "data": {
      "text/html": [
       "<div>\n",
       "<style scoped>\n",
       "    .dataframe tbody tr th:only-of-type {\n",
       "        vertical-align: middle;\n",
       "    }\n",
       "\n",
       "    .dataframe tbody tr th {\n",
       "        vertical-align: top;\n",
       "    }\n",
       "\n",
       "    .dataframe thead th {\n",
       "        text-align: right;\n",
       "    }\n",
       "</style>\n",
       "<table border=\"1\" class=\"dataframe\">\n",
       "  <thead>\n",
       "    <tr style=\"text-align: right;\">\n",
       "      <th></th>\n",
       "      <th>url</th>\n",
       "      <th>title_extracted</th>\n",
       "    </tr>\n",
       "  </thead>\n",
       "  <tbody>\n",
       "    <tr>\n",
       "      <th>0</th>\n",
       "      <td>https://conservativeinstitute.org/conservative...</td>\n",
       "      <td>harris accused ignoring obstructing</td>\n",
       "    </tr>\n",
       "    <tr>\n",
       "      <th>1</th>\n",
       "      <td>https://conservativeinstitute.org/conservative...</td>\n",
       "      <td>nancy pelosis lack control</td>\n",
       "    </tr>\n",
       "    <tr>\n",
       "      <th>2</th>\n",
       "      <td>https://www.fdesouche.com/618749-suisse-un-tun...</td>\n",
       "      <td>618749 suisse un tunisien deboute donne ses so...</td>\n",
       "    </tr>\n",
       "    <tr>\n",
       "      <th>3</th>\n",
       "      <td>https://www.dailyconservative.com/poll-do-you-...</td>\n",
       "      <td>poll do you stand with sarah sanders</td>\n",
       "    </tr>\n",
       "  </tbody>\n",
       "</table>\n",
       "</div>"
      ],
      "text/plain": [
       "                                                 url  \\\n",
       "0  https://conservativeinstitute.org/conservative...   \n",
       "1  https://conservativeinstitute.org/conservative...   \n",
       "2  https://www.fdesouche.com/618749-suisse-un-tun...   \n",
       "3  https://www.dailyconservative.com/poll-do-you-...   \n",
       "\n",
       "                                     title_extracted  \n",
       "0                harris accused ignoring obstructing  \n",
       "1                         nancy pelosis lack control  \n",
       "2  618749 suisse un tunisien deboute donne ses so...  \n",
       "3               poll do you stand with sarah sanders  "
      ]
     },
     "execution_count": 37,
     "metadata": {},
     "output_type": "execute_result"
    }
   ],
   "source": [
    "df_extract"
   ]
  }
 ],
 "metadata": {
  "kernelspec": {
   "display_name": "Python 3",
   "language": "python",
   "name": "python3"
  },
  "language_info": {
   "codemirror_mode": {
    "name": "ipython",
    "version": 3
   },
   "file_extension": ".py",
   "mimetype": "text/x-python",
   "name": "python",
   "nbconvert_exporter": "python",
   "pygments_lexer": "ipython3",
   "version": "3.8.3"
  }
 },
 "nbformat": 4,
 "nbformat_minor": 4
}
